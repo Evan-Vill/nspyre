{
 "cells": [
  {
   "cell_type": "code",
   "execution_count": 1,
   "metadata": {},
   "outputs": [],
   "source": [
    "from sg396_driver import SG396\n",
    "\n",
    "import numpy as np"
   ]
  },
  {
   "cell_type": "code",
   "execution_count": 2,
   "metadata": {},
   "outputs": [
    {
     "name": "stdout",
     "output_type": "stream",
     "text": [
      "connected to SG396 [TCPIP::10.135.70.65::inst0::INSTR]\n"
     ]
    }
   ],
   "source": [
    "sg = SG396('TCPIP::10.135.70.65::inst0::INSTR')"
   ]
  },
  {
   "cell_type": "code",
   "execution_count": null,
   "metadata": {},
   "outputs": [],
   "source": [
    "# sg.set_rf_amplitude(kwargs['rf_power'])\n",
    "sg.set_mod_type(3)\n",
    "sg.set_mod_sweep_function(2)\n",
    "sg.set_mod_sweep_rate(.01) # [Hz]\n",
    "sg.set_mod_sweep_dev(100e6) # [Hz]\n",
    "sg.set_mod_toggle(1)"
   ]
  },
  {
   "cell_type": "code",
   "execution_count": 16,
   "metadata": {},
   "outputs": [],
   "source": [
    "sg.set_rf_amplitude(1e-12) # set low amplitude\n",
    "sg.set_frequency(2.3e9) # set 2.3 GHz carrier\n",
    "sg.set_rf_toggle(1)\n"
   ]
  },
  {
   "cell_type": "code",
   "execution_count": 18,
   "metadata": {},
   "outputs": [],
   "source": [
    "sg.set_rf_toggle(0)\n",
    "sg.set_mod_toggle(0)"
   ]
  },
  {
   "cell_type": "code",
   "execution_count": 17,
   "metadata": {},
   "outputs": [
    {
     "data": {
      "text/plain": [
       "100.0"
      ]
     },
     "execution_count": 17,
     "metadata": {},
     "output_type": "execute_result"
    }
   ],
   "source": [
    "sg.get_mod_sweep_rate()"
   ]
  },
  {
   "cell_type": "code",
   "execution_count": null,
   "metadata": {},
   "outputs": [],
   "source": []
  }
 ],
 "metadata": {
  "kernelspec": {
   "display_name": "nspyre",
   "language": "python",
   "name": "python3"
  },
  "language_info": {
   "codemirror_mode": {
    "name": "ipython",
    "version": 3
   },
   "file_extension": ".py",
   "mimetype": "text/x-python",
   "name": "python",
   "nbconvert_exporter": "python",
   "pygments_lexer": "ipython3",
   "version": "3.11.5"
  }
 },
 "nbformat": 4,
 "nbformat_minor": 2
}
