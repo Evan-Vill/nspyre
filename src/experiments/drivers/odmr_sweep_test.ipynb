{
 "cells": [
  {
   "cell_type": "code",
   "execution_count": 1,
   "metadata": {},
   "outputs": [],
   "source": [
    "%load_ext autoreload\n",
    "%autoreload 2\n",
    "from FIFOv2 import FIFO \n",
    "from multi_latest import Multi\n",
    "import matplotlib.pyplot as plt\n",
    "import numpy as np\n",
    "import math\n",
    "from spcm import units\n",
    "import spcm as spcm\n",
    "import time as time\n",
    "from time import sleep \n",
    "# import API classes into the current namespace\n",
    "from pulsestreamer import PulseStreamer, Sequence \n",
    "import matplotlib.pyplot as plt\n",
    "import numpy as np "
   ]
  },
  {
   "cell_type": "code",
   "execution_count": 2,
   "metadata": {},
   "outputs": [
    {
     "name": "stdout",
     "output_type": "stream",
     "text": [
      "Connect to Pulse Streamer via JSON-RPC.\n",
      "IP / Hostname: 10.135.70.193\n",
      "Pulse Streamer 8/2 firmware: v1.5.2\n",
      "Client software: v1.7.0\n",
      "Your client software is more up to date than the Pulse Streamer 8/2 firmware. We recommend updating the firmware of your Pulse Streamer 8/2.\n",
      "For detailed information visit https://www.swabianinstruments.com/pulse-streamer-8-2/downloads/ or contact support@swabianinstruments.com\n",
      "Successfully connected to the digitizer\n"
     ]
    }
   ],
   "source": [
    "# Coself.samplesself.samplesect to Pulse Streamer\n",
    "ip = '10.135.70.193' \n",
    "ps = PulseStreamer(ip)\n",
    "Multi = Multi('dev/spcm0')\n"
   ]
  },
  {
   "cell_type": "code",
   "execution_count": 3,
   "metadata": {},
   "outputs": [],
   "source": [
    "# To set the configuration, make a dictionary with the key and value\n",
    "num_iters=12\n",
    "config1={'num_samples' :None,\n",
    "         'runs': 4,\n",
    "         'readout_ch' :0,\n",
    "         'num_pts_in_exp':2,\n",
    "         'num_iters':num_iters}"
   ]
  },
  {
   "cell_type": "code",
   "execution_count": 4,
   "metadata": {},
   "outputs": [
    {
     "name": "stdout",
     "output_type": "stream",
     "text": [
      "SETTINGS: card timeout =  20 s\n",
      "SETTINGS: # segments =  512 Sa\n",
      "SETTINGS: sampling freq =  0.5 GHz\n"
     ]
    }
   ],
   "source": [
    "# Assign_param takes the configuration and gives it to the class dictionary \n",
    "\n",
    "Multi.assign_param(settings_dict=config1)\n",
    "Multi.config()"
   ]
  },
  {
   "cell_type": "code",
   "execution_count": 5,
   "metadata": {},
   "outputs": [],
   "source": [
    "probe_time = 50e3\n",
    "readout_time = 1000\n",
    "trig_time = 10\n",
    "\n",
    "\n",
    "def CW_ODMR(num_freqs):\n",
    "        \n",
    "        '''\n",
    "        CW ODMR Sequence\n",
    "        Laser on for entire sequence. \n",
    "        MW on for probe_time.\n",
    "        MW off for probe_time.\n",
    "        User sets how many voltage samples (num_clocks) to take during each MW on/off window.\n",
    "        '''\n",
    "    \n",
    "        def SingleCW_ODMR():\n",
    "            \n",
    "            # create sequence object\n",
    "            seq_on = ps.createSequence()\n",
    "            seq_off = ps.createSequence()\n",
    "\n",
    "            # digitizer trigger timing\n",
    "            clock_off1 = probe_time - 30*readout_time - trig_time\n",
    "            clock_off2 = 30*readout_time\n",
    "\n",
    "            iq_off = probe_time - trig_time\n",
    "\n",
    "            # define sequence structure for clock and MW I/Q channels\n",
    "            dig_clock_seq = [(clock_off1, 0), (trig_time, 1), (clock_off2, 0)]\n",
    "            \n",
    "            mw_iq_seq_on = [(trig_time, 1), (iq_off, 0)]\n",
    "            mw_iq_seq_off = [(probe_time, 0)]\n",
    "\n",
    "            # assign sequences to respective channels\n",
    "            seq_on.setDigital(1, dig_clock_seq) # digitizer trigger\n",
    "            seq_on.setDigital(2, mw_iq_seq_on) # MW IQ\n",
    "\n",
    "            seq_off.setDigital(1, dig_clock_seq) # digitizer trigger\n",
    "            seq_off.setDigital(2, mw_iq_seq_off) # MW IQ\n",
    "\n",
    "            return seq_on + seq_off\n",
    "\n",
    "        seqs = ps.createSequence()\n",
    "\n",
    "        for i in range(num_freqs):\n",
    "            seqs += SingleCW_ODMR()\n",
    "\n",
    "        return seqs"
   ]
  },
  {
   "cell_type": "code",
   "execution_count": 8,
   "metadata": {},
   "outputs": [],
   "source": [
    "ps_seq = CW_ODMR(1)"
   ]
  },
  {
   "cell_type": "code",
   "execution_count": 9,
   "metadata": {},
   "outputs": [
    {
     "data": {
      "image/png": "[encoded data removed]",
      "text/plain": [
       "<Figure size 640x480 with 10 Axes>"
      ]
     },
     "metadata": {},
     "output_type": "display_data"
    }
   ],
   "source": [
    "ps_seq.plot()"
   ]
  },
  {
   "cell_type": "code",
   "execution_count": null,
   "metadata": {},
   "outputs": [],
   "source": [
    "Multi.config()\n",
    "Multi.start_buffer()\n",
    "\n",
    "DATA=Multi.acquire()\n",
    "\n",
    "Multi.stop_card()\n",
    "Multi.reset()"
   ]
  },
  {
   "cell_type": "code",
   "execution_count": null,
   "metadata": {},
   "outputs": [],
   "source": [
    "plt.plot(np.ravel(Multi))"
   ]
  }
 ],
 "metadata": {
  "kernelspec": {
   "display_name": "nspyre",
   "language": "python",
   "name": "python3"
  },
  "language_info": {
   "codemirror_mode": {
    "name": "ipython",
    "version": 3
   },
   "file_extension": ".py",
   "mimetype": "text/x-python",
   "name": "python",
   "nbconvert_exporter": "python",
   "pygments_lexer": "ipython3",
   "version": "3.11.5"
  }
 },
 "nbformat": 4,
 "nbformat_minor": 2
}
